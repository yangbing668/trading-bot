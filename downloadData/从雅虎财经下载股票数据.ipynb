{
 "cells": [
  {
   "cell_type": "code",
   "execution_count": null,
   "metadata": {
    "pycharm": {
     "is_executing": true,
     "name": "#%%\n"
    }
   },
   "outputs": [],
   "source": [
    "import datetime\n",
    "import pandas as pd\n",
    "import os\n",
    "import pandas_datareader.data as web\n",
    "from tqdm import tqdm\n",
    "\n",
    "names = ['AAPL', 'MSFT', 'AMZN', 'FB', 'NVDA', 'TSLA', 'GOOG', 'GOOGL', 'NFLX', 'AVGO', 'ADBE', 'CSCO', 'COST', 'PEP',\n",
    "         'CMCSA', 'PYPL', 'INTC', 'QCOM', 'INTU', 'AMD', 'TXN', 'TMUS', 'HON', 'AMAT', 'SBUX', 'AMGN', 'ISRG', 'CHTR',\n",
    "         'MRNA', 'MU', 'ADP', 'BKNG', 'LRCX', 'ADI', 'GILD', 'MDLZ', 'CSX', 'MRVL', 'FISV', 'REGN', 'ASML', 'LCID',\n",
    "         'KLAC', 'MELI', 'ADSK', 'NXPI', 'ILMN', 'ABNB', 'VRTX', 'FTNT', 'DXCM', 'SNPS', 'JD', 'WDAY', 'TEAM', 'PANW',\n",
    "         'IDXX', 'EXC', 'MAR', 'XLNX', 'CDNS', 'KDP', 'ALGN', 'ATVI', 'MNST', 'ZM', 'LULU', 'MCHP', 'DDOG', 'PAYX',\n",
    "         'ORLY', 'CTAS', 'CTSH', 'ZS', 'AEP', 'CRWD', 'WBA', 'KHC', 'EBAY', 'ROST', 'EA', 'MTCH', 'VRSK', 'XEL', 'FAST',\n",
    "         'BIDU', 'ANSS', 'BIIB', 'CPRT', 'OKTA', 'DLTR', 'DOCU', 'PCAR', 'SGEN', 'NTES', 'VRSN', 'SIRI', 'SWKS', 'PDD',\n",
    "         'SPLK', 'PTON']#纳斯达克100\n",
    "\n",
    "for name in tqdm(names):\n",
    "    prices = web.DataReader(name, 'yahoo', datetime.datetime(2016, 12, 10), datetime.datetime(2021, 12, 10))\n",
    "    path = 'Data/all/'\n",
    "    if not os.path.exists(path):\n",
    "        os.makedirs(path)\n",
    "    prices.to_csv(path + name + \".csv\")#\n",
    "\n",
    "for name in tqdm(names):\n",
    "    prices = web.DataReader(name, 'yahoo', datetime.datetime(2019, 12, 11), datetime.datetime(2021, 12, 10))\n",
    "    path = 'Data/test/'\n",
    "    if not os.path.exists(path):\n",
    "        os.makedirs(path)\n",
    "    prices.to_csv(path + name + \".csv\")#\n",
    "\n",
    "for name in tqdm(names):\n",
    "    prices = web.DataReader(name, 'yahoo', datetime.datetime(2016, 12, 10), datetime.datetime(2019, 12, 10))\n",
    "    path = 'Data/train/'\n",
    "    if not os.path.exists(path):\n",
    "        os.makedirs(path)\n",
    "    prices.to_csv(path + name + \".csv\")#\n",
    "    "
   ]
  },
  {
   "cell_type": "code",
   "execution_count": null,
   "metadata": {
    "pycharm": {
     "is_executing": true,
     "name": "#%%\n"
    }
   },
   "outputs": [],
   "source": []
  },
  {
   "cell_type": "code",
   "execution_count": null,
   "metadata": {
    "pycharm": {
     "is_executing": true,
     "name": "#%%\n"
    }
   },
   "outputs": [],
   "source": []
  }
 ],
 "metadata": {
  "kernelspec": {
   "display_name": "Python 3 (ipykernel)",
   "language": "python",
   "name": "python3"
  },
  "language_info": {
   "codemirror_mode": {
    "name": "ipython",
    "version": 3
   },
   "file_extension": ".py",
   "mimetype": "text/x-python",
   "name": "python",
   "nbconvert_exporter": "python",
   "pygments_lexer": "ipython3",
   "version": "3.7.1"
  }
 },
 "nbformat": 4,
 "nbformat_minor": 2
}
